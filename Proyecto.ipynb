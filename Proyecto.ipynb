{
  "nbformat": 4,
  "nbformat_minor": 0,
  "metadata": {
    "colab": {
      "provenance": [],
      "collapsed_sections": [],
      "include_colab_link": true
    },
    "kernelspec": {
      "name": "python3",
      "display_name": "Python 3"
    },
    "language_info": {
      "name": "python"
    }
  },
  "cells": [
    {
      "cell_type": "markdown",
      "metadata": {
        "id": "view-in-github",
        "colab_type": "text"
      },
      "source": [
        "<a href=\"https://colab.research.google.com/github/julianmoreno1123/Analitica-de-datos/blob/main/Proyecto.ipynb\" target=\"_parent\"><img src=\"https://colab.research.google.com/assets/colab-badge.svg\" alt=\"Open In Colab\"/></a>"
      ]
    },
    {
      "cell_type": "markdown",
      "source": [
        "## 1. Lectura de archivo y librerías a usar"
      ],
      "metadata": {
        "id": "Y35Eb_f_nFQm"
      }
    },
    {
      "cell_type": "markdown",
      "source": [
        "Integrantes\n",
        "\n",
        "Jhonatan Styven Rodriguez Reyes\n",
        "\n",
        "Julián Esteban Moreno Grajales\n",
        "\n",
        "\n"
      ],
      "metadata": {
        "id": "c32kdWPhCf9u"
      }
    },
    {
      "cell_type": "markdown",
      "source": [
        "Base de datos: \n",
        "\n",
        "https://www.kaggle.com/datasets/kumarajarshi/life-expectancy-who?select=Life+Expectancy+Data.csv"
      ],
      "metadata": {
        "id": "5GsZGcH6C_l1"
      }
    },
    {
      "cell_type": "code",
      "source": [
        "###Importación de librerias \n",
        "import pandas as pd\n",
        "import numpy as np\n",
        "import matplotlib.pyplot as plt\n",
        "import seaborn as sns"
      ],
      "metadata": {
        "id": "wzhEwg7LnK9_"
      },
      "execution_count": null,
      "outputs": []
    },
    {
      "cell_type": "code",
      "source": [
        "df = pd.read_csv('Life Expectancy Data.csv') #Cargar datos de un cvs a un Dataframe"
      ],
      "metadata": {
        "id": "VzwO1ws1lcpX"
      },
      "execution_count": null,
      "outputs": []
    },
    {
      "cell_type": "markdown",
      "source": [
        "Los pasos que realizaremos en el trabajo seran:\n",
        "\n",
        "-Entendimiento del negocio.\n",
        "\n",
        "-Entendimiento de los datos.\n",
        "\n",
        "-Preparación de los datos.\n",
        "\n",
        "-Modelado.\n"
      ],
      "metadata": {
        "id": "b1EXfvVq3Fb0"
      }
    },
    {
      "cell_type": "markdown",
      "source": [
        "### 1.1. Resumen"
      ],
      "metadata": {
        "id": "vt5KcYd5aqKS"
      }
    },
    {
      "cell_type": "markdown",
      "source": [
        "**La esperanza de vida** es el promedio de años que se espera que viva una persona, esta se calcula a partir de la tasa de mortalidad de determinada población. Los patrones de mortalidad suelen variar a medida que pasan los años.\n",
        "\n",
        "Este dataframe, se centra en el estudio el cual tiene factores de inmunizacion, factores de mortalidad, facrores económicos, factores sociales y otros factores relacionados con la salud, este conjunto de datos se pone a disposición del publico con el fin de analizar los datos en 193 paises. \n",
        "\n",
        "Con ayuda de la estadistica y la programacion, analizaremos este dataframe, para ver cuales de los factores propuestos están mas correlacionados con la esperanza de vida.\n",
        "\n",
        "Los pasos a seguir en este trabajo seran el entendimiento de la base de datos, el entendimiento de los datos, la preparación de los datos, el modelo matematico y le avaluacion del modelo. "
      ],
      "metadata": {
        "id": "q8rScyiZa_K6"
      }
    },
    {
      "cell_type": "markdown",
      "source": [
        "###1.2 ¿Que es Pandas?"
      ],
      "metadata": {
        "id": "sYS2ZaQTaqum"
      }
    },
    {
      "cell_type": "markdown",
      "source": [
        "Pandas de PAnel DAta es una libreria de software libre en phyton basada en numphy, especializada para la manipulación y analisis de datos, ésta ofrece operaciones para manipular tablas numéricas, séries de tiempo y estructura de datos. Altamente optimizada en rendimiento con caminos de código escritos en Cython o C tiene como características más usadas van desde tipos de dataframe para manipulación de datos con indexación integrada hasta operaciones tabulares como relleno de datos, uniones de tablas, reestructursción y segmentación de datos, entre otros\n",
        "  \n",
        "\n",
        "Panel data o datos de panel es un término de econometría que designa datos que combinan una dimensión temporal con otra dimensión transversal."
      ],
      "metadata": {
        "id": "mUQvtOR2bAcf"
      }
    },
    {
      "cell_type": "markdown",
      "source": [
        "###1.3 ¿Que es NumPy?"
      ],
      "metadata": {
        "id": "4mpOkQqharCD"
      }
    },
    {
      "cell_type": "markdown",
      "source": [
        "Para empezar Num-Py significa numerical python, este es una de los paquetes fundmentales para una computación cientifica, uno de los objetos mas potentes son los arrays, que a terminos basicos se pueden entender como una matriz; en ellos las operaciones son mas directas y faciles e realizar ademas de que se pueden aplicar operaciones matematicas mas complejas como lo son transformaciones lineales o transformadas discrtas de fourier.\n",
        "Grandes beneficios ya en el area programatica son, velocidad de ejecucion, consumo de memoria y agilidad en los calculos."
      ],
      "metadata": {
        "id": "o7LnSLQhbB_D"
      }
    },
    {
      "cell_type": "markdown",
      "source": [
        "# 2. Entendimiento del proyecto"
      ],
      "metadata": {
        "id": "w5y4GyI8niwY"
      }
    },
    {
      "cell_type": "markdown",
      "source": [
        "### 2.1. Resumen"
      ],
      "metadata": {
        "id": "IhngN4I5qZqx"
      }
    },
    {
      "cell_type": "code",
      "source": [
        "df.columns #Comando para ver las columnas del dataframe."
      ],
      "metadata": {
        "colab": {
          "base_uri": "https://localhost:8080/"
        },
        "id": "vOW4IeyjDHSD",
        "outputId": "3d80156f-ef63-4ff6-d84c-350c72ca018b"
      },
      "execution_count": null,
      "outputs": [
        {
          "output_type": "execute_result",
          "data": {
            "text/plain": [
              "Index(['Country', 'Year', 'Status', 'Life expectancy ', 'Adult Mortality',\n",
              "       'infant deaths', 'Alcohol', 'percentage expenditure', 'Hepatitis B',\n",
              "       'Measles ', ' BMI ', 'under-five deaths ', 'Polio', 'Total expenditure',\n",
              "       'Diphtheria ', ' HIV/AIDS', 'GDP', 'Population',\n",
              "       ' thinness  1-19 years', ' thinness 5-9 years',\n",
              "       'Income composition of resources', 'Schooling'],\n",
              "      dtype='object')"
            ]
          },
          "metadata": {},
          "execution_count": 3
        }
      ]
    },
    {
      "cell_type": "code",
      "source": [
        "df.head() #Se muestran las primeras cinco filas de nuestro DataFrame."
      ],
      "metadata": {
        "colab": {
          "base_uri": "https://localhost:8080/",
          "height": 352
        },
        "id": "4r4QxxyyYZr9",
        "outputId": "1da231bf-6b0c-4fff-9623-ce89322b09c9"
      },
      "execution_count": null,
      "outputs": [
        {
          "output_type": "execute_result",
          "data": {
            "text/plain": [
              "       Country  Year      Status  Life expectancy   Adult Mortality  \\\n",
              "0  Afghanistan  2015  Developing              65.0            263.0   \n",
              "1  Afghanistan  2014  Developing              59.9            271.0   \n",
              "2  Afghanistan  2013  Developing              59.9            268.0   \n",
              "3  Afghanistan  2012  Developing              59.5            272.0   \n",
              "4  Afghanistan  2011  Developing              59.2            275.0   \n",
              "\n",
              "   infant deaths  Alcohol  percentage expenditure  Hepatitis B  Measles   ...  \\\n",
              "0             62     0.01               71.279624         65.0      1154  ...   \n",
              "1             64     0.01               73.523582         62.0       492  ...   \n",
              "2             66     0.01               73.219243         64.0       430  ...   \n",
              "3             69     0.01               78.184215         67.0      2787  ...   \n",
              "4             71     0.01                7.097109         68.0      3013  ...   \n",
              "\n",
              "   Polio  Total expenditure  Diphtheria    HIV/AIDS         GDP  Population  \\\n",
              "0    6.0               8.16         65.0        0.1  584.259210  33736494.0   \n",
              "1   58.0               8.18         62.0        0.1  612.696514    327582.0   \n",
              "2   62.0               8.13         64.0        0.1  631.744976  31731688.0   \n",
              "3   67.0               8.52         67.0        0.1  669.959000   3696958.0   \n",
              "4   68.0               7.87         68.0        0.1   63.537231   2978599.0   \n",
              "\n",
              "    thinness  1-19 years   thinness 5-9 years  \\\n",
              "0                   17.2                 17.3   \n",
              "1                   17.5                 17.5   \n",
              "2                   17.7                 17.7   \n",
              "3                   17.9                 18.0   \n",
              "4                   18.2                 18.2   \n",
              "\n",
              "   Income composition of resources  Schooling  \n",
              "0                            0.479       10.1  \n",
              "1                            0.476       10.0  \n",
              "2                            0.470        9.9  \n",
              "3                            0.463        9.8  \n",
              "4                            0.454        9.5  \n",
              "\n",
              "[5 rows x 22 columns]"
            ],
            "text/html": [
              "\n",
              "  <div id=\"df-1fba36b7-be0f-4e73-870b-cfd0b3c4ab7d\">\n",
              "    <div class=\"colab-df-container\">\n",
              "      <div>\n",
              "<style scoped>\n",
              "    .dataframe tbody tr th:only-of-type {\n",
              "        vertical-align: middle;\n",
              "    }\n",
              "\n",
              "    .dataframe tbody tr th {\n",
              "        vertical-align: top;\n",
              "    }\n",
              "\n",
              "    .dataframe thead th {\n",
              "        text-align: right;\n",
              "    }\n",
              "</style>\n",
              "<table border=\"1\" class=\"dataframe\">\n",
              "  <thead>\n",
              "    <tr style=\"text-align: right;\">\n",
              "      <th></th>\n",
              "      <th>Country</th>\n",
              "      <th>Year</th>\n",
              "      <th>Status</th>\n",
              "      <th>Life expectancy</th>\n",
              "      <th>Adult Mortality</th>\n",
              "      <th>infant deaths</th>\n",
              "      <th>Alcohol</th>\n",
              "      <th>percentage expenditure</th>\n",
              "      <th>Hepatitis B</th>\n",
              "      <th>Measles</th>\n",
              "      <th>...</th>\n",
              "      <th>Polio</th>\n",
              "      <th>Total expenditure</th>\n",
              "      <th>Diphtheria</th>\n",
              "      <th>HIV/AIDS</th>\n",
              "      <th>GDP</th>\n",
              "      <th>Population</th>\n",
              "      <th>thinness  1-19 years</th>\n",
              "      <th>thinness 5-9 years</th>\n",
              "      <th>Income composition of resources</th>\n",
              "      <th>Schooling</th>\n",
              "    </tr>\n",
              "  </thead>\n",
              "  <tbody>\n",
              "    <tr>\n",
              "      <th>0</th>\n",
              "      <td>Afghanistan</td>\n",
              "      <td>2015</td>\n",
              "      <td>Developing</td>\n",
              "      <td>65.0</td>\n",
              "      <td>263.0</td>\n",
              "      <td>62</td>\n",
              "      <td>0.01</td>\n",
              "      <td>71.279624</td>\n",
              "      <td>65.0</td>\n",
              "      <td>1154</td>\n",
              "      <td>...</td>\n",
              "      <td>6.0</td>\n",
              "      <td>8.16</td>\n",
              "      <td>65.0</td>\n",
              "      <td>0.1</td>\n",
              "      <td>584.259210</td>\n",
              "      <td>33736494.0</td>\n",
              "      <td>17.2</td>\n",
              "      <td>17.3</td>\n",
              "      <td>0.479</td>\n",
              "      <td>10.1</td>\n",
              "    </tr>\n",
              "    <tr>\n",
              "      <th>1</th>\n",
              "      <td>Afghanistan</td>\n",
              "      <td>2014</td>\n",
              "      <td>Developing</td>\n",
              "      <td>59.9</td>\n",
              "      <td>271.0</td>\n",
              "      <td>64</td>\n",
              "      <td>0.01</td>\n",
              "      <td>73.523582</td>\n",
              "      <td>62.0</td>\n",
              "      <td>492</td>\n",
              "      <td>...</td>\n",
              "      <td>58.0</td>\n",
              "      <td>8.18</td>\n",
              "      <td>62.0</td>\n",
              "      <td>0.1</td>\n",
              "      <td>612.696514</td>\n",
              "      <td>327582.0</td>\n",
              "      <td>17.5</td>\n",
              "      <td>17.5</td>\n",
              "      <td>0.476</td>\n",
              "      <td>10.0</td>\n",
              "    </tr>\n",
              "    <tr>\n",
              "      <th>2</th>\n",
              "      <td>Afghanistan</td>\n",
              "      <td>2013</td>\n",
              "      <td>Developing</td>\n",
              "      <td>59.9</td>\n",
              "      <td>268.0</td>\n",
              "      <td>66</td>\n",
              "      <td>0.01</td>\n",
              "      <td>73.219243</td>\n",
              "      <td>64.0</td>\n",
              "      <td>430</td>\n",
              "      <td>...</td>\n",
              "      <td>62.0</td>\n",
              "      <td>8.13</td>\n",
              "      <td>64.0</td>\n",
              "      <td>0.1</td>\n",
              "      <td>631.744976</td>\n",
              "      <td>31731688.0</td>\n",
              "      <td>17.7</td>\n",
              "      <td>17.7</td>\n",
              "      <td>0.470</td>\n",
              "      <td>9.9</td>\n",
              "    </tr>\n",
              "    <tr>\n",
              "      <th>3</th>\n",
              "      <td>Afghanistan</td>\n",
              "      <td>2012</td>\n",
              "      <td>Developing</td>\n",
              "      <td>59.5</td>\n",
              "      <td>272.0</td>\n",
              "      <td>69</td>\n",
              "      <td>0.01</td>\n",
              "      <td>78.184215</td>\n",
              "      <td>67.0</td>\n",
              "      <td>2787</td>\n",
              "      <td>...</td>\n",
              "      <td>67.0</td>\n",
              "      <td>8.52</td>\n",
              "      <td>67.0</td>\n",
              "      <td>0.1</td>\n",
              "      <td>669.959000</td>\n",
              "      <td>3696958.0</td>\n",
              "      <td>17.9</td>\n",
              "      <td>18.0</td>\n",
              "      <td>0.463</td>\n",
              "      <td>9.8</td>\n",
              "    </tr>\n",
              "    <tr>\n",
              "      <th>4</th>\n",
              "      <td>Afghanistan</td>\n",
              "      <td>2011</td>\n",
              "      <td>Developing</td>\n",
              "      <td>59.2</td>\n",
              "      <td>275.0</td>\n",
              "      <td>71</td>\n",
              "      <td>0.01</td>\n",
              "      <td>7.097109</td>\n",
              "      <td>68.0</td>\n",
              "      <td>3013</td>\n",
              "      <td>...</td>\n",
              "      <td>68.0</td>\n",
              "      <td>7.87</td>\n",
              "      <td>68.0</td>\n",
              "      <td>0.1</td>\n",
              "      <td>63.537231</td>\n",
              "      <td>2978599.0</td>\n",
              "      <td>18.2</td>\n",
              "      <td>18.2</td>\n",
              "      <td>0.454</td>\n",
              "      <td>9.5</td>\n",
              "    </tr>\n",
              "  </tbody>\n",
              "</table>\n",
              "<p>5 rows × 22 columns</p>\n",
              "</div>\n",
              "      <button class=\"colab-df-convert\" onclick=\"convertToInteractive('df-1fba36b7-be0f-4e73-870b-cfd0b3c4ab7d')\"\n",
              "              title=\"Convert this dataframe to an interactive table.\"\n",
              "              style=\"display:none;\">\n",
              "        \n",
              "  <svg xmlns=\"http://www.w3.org/2000/svg\" height=\"24px\"viewBox=\"0 0 24 24\"\n",
              "       width=\"24px\">\n",
              "    <path d=\"M0 0h24v24H0V0z\" fill=\"none\"/>\n",
              "    <path d=\"M18.56 5.44l.94 2.06.94-2.06 2.06-.94-2.06-.94-.94-2.06-.94 2.06-2.06.94zm-11 1L8.5 8.5l.94-2.06 2.06-.94-2.06-.94L8.5 2.5l-.94 2.06-2.06.94zm10 10l.94 2.06.94-2.06 2.06-.94-2.06-.94-.94-2.06-.94 2.06-2.06.94z\"/><path d=\"M17.41 7.96l-1.37-1.37c-.4-.4-.92-.59-1.43-.59-.52 0-1.04.2-1.43.59L10.3 9.45l-7.72 7.72c-.78.78-.78 2.05 0 2.83L4 21.41c.39.39.9.59 1.41.59.51 0 1.02-.2 1.41-.59l7.78-7.78 2.81-2.81c.8-.78.8-2.07 0-2.86zM5.41 20L4 18.59l7.72-7.72 1.47 1.35L5.41 20z\"/>\n",
              "  </svg>\n",
              "      </button>\n",
              "      \n",
              "  <style>\n",
              "    .colab-df-container {\n",
              "      display:flex;\n",
              "      flex-wrap:wrap;\n",
              "      gap: 12px;\n",
              "    }\n",
              "\n",
              "    .colab-df-convert {\n",
              "      background-color: #E8F0FE;\n",
              "      border: none;\n",
              "      border-radius: 50%;\n",
              "      cursor: pointer;\n",
              "      display: none;\n",
              "      fill: #1967D2;\n",
              "      height: 32px;\n",
              "      padding: 0 0 0 0;\n",
              "      width: 32px;\n",
              "    }\n",
              "\n",
              "    .colab-df-convert:hover {\n",
              "      background-color: #E2EBFA;\n",
              "      box-shadow: 0px 1px 2px rgba(60, 64, 67, 0.3), 0px 1px 3px 1px rgba(60, 64, 67, 0.15);\n",
              "      fill: #174EA6;\n",
              "    }\n",
              "\n",
              "    [theme=dark] .colab-df-convert {\n",
              "      background-color: #3B4455;\n",
              "      fill: #D2E3FC;\n",
              "    }\n",
              "\n",
              "    [theme=dark] .colab-df-convert:hover {\n",
              "      background-color: #434B5C;\n",
              "      box-shadow: 0px 1px 3px 1px rgba(0, 0, 0, 0.15);\n",
              "      filter: drop-shadow(0px 1px 2px rgba(0, 0, 0, 0.3));\n",
              "      fill: #FFFFFF;\n",
              "    }\n",
              "  </style>\n",
              "\n",
              "      <script>\n",
              "        const buttonEl =\n",
              "          document.querySelector('#df-1fba36b7-be0f-4e73-870b-cfd0b3c4ab7d button.colab-df-convert');\n",
              "        buttonEl.style.display =\n",
              "          google.colab.kernel.accessAllowed ? 'block' : 'none';\n",
              "\n",
              "        async function convertToInteractive(key) {\n",
              "          const element = document.querySelector('#df-1fba36b7-be0f-4e73-870b-cfd0b3c4ab7d');\n",
              "          const dataTable =\n",
              "            await google.colab.kernel.invokeFunction('convertToInteractive',\n",
              "                                                     [key], {});\n",
              "          if (!dataTable) return;\n",
              "\n",
              "          const docLinkHtml = 'Like what you see? Visit the ' +\n",
              "            '<a target=\"_blank\" href=https://colab.research.google.com/notebooks/data_table.ipynb>data table notebook</a>'\n",
              "            + ' to learn more about interactive tables.';\n",
              "          element.innerHTML = '';\n",
              "          dataTable['output_type'] = 'display_data';\n",
              "          await google.colab.output.renderOutput(dataTable, element);\n",
              "          const docLink = document.createElement('div');\n",
              "          docLink.innerHTML = docLinkHtml;\n",
              "          element.appendChild(docLink);\n",
              "        }\n",
              "      </script>\n",
              "    </div>\n",
              "  </div>\n",
              "  "
            ]
          },
          "metadata": {},
          "execution_count": 4
        }
      ]
    },
    {
      "cell_type": "code",
      "source": [
        "df.info() #Información de cada columna."
      ],
      "metadata": {
        "colab": {
          "base_uri": "https://localhost:8080/"
        },
        "id": "FSNlNN8LqbYt",
        "outputId": "f1a73e28-f24d-45f8-eadd-374e0038bdb1"
      },
      "execution_count": null,
      "outputs": [
        {
          "output_type": "stream",
          "name": "stdout",
          "text": [
            "<class 'pandas.core.frame.DataFrame'>\n",
            "RangeIndex: 2938 entries, 0 to 2937\n",
            "Data columns (total 22 columns):\n",
            " #   Column                           Non-Null Count  Dtype  \n",
            "---  ------                           --------------  -----  \n",
            " 0   Country                          2938 non-null   object \n",
            " 1   Year                             2938 non-null   int64  \n",
            " 2   Status                           2938 non-null   object \n",
            " 3   Life expectancy                  2928 non-null   float64\n",
            " 4   Adult Mortality                  2928 non-null   float64\n",
            " 5   infant deaths                    2938 non-null   int64  \n",
            " 6   Alcohol                          2744 non-null   float64\n",
            " 7   percentage expenditure           2938 non-null   float64\n",
            " 8   Hepatitis B                      2385 non-null   float64\n",
            " 9   Measles                          2938 non-null   int64  \n",
            " 10   BMI                             2904 non-null   float64\n",
            " 11  under-five deaths                2938 non-null   int64  \n",
            " 12  Polio                            2919 non-null   float64\n",
            " 13  Total expenditure                2712 non-null   float64\n",
            " 14  Diphtheria                       2919 non-null   float64\n",
            " 15   HIV/AIDS                        2938 non-null   float64\n",
            " 16  GDP                              2490 non-null   float64\n",
            " 17  Population                       2286 non-null   float64\n",
            " 18   thinness  1-19 years            2904 non-null   float64\n",
            " 19   thinness 5-9 years              2904 non-null   float64\n",
            " 20  Income composition of resources  2771 non-null   float64\n",
            " 21  Schooling                        2775 non-null   float64\n",
            "dtypes: float64(16), int64(4), object(2)\n",
            "memory usage: 505.1+ KB\n"
          ]
        }
      ]
    },
    {
      "cell_type": "markdown",
      "source": [
        "Los datos constan de 21 caracteristicas, 2938 registros, y variables de tipo texto y numérico.\n",
        "\n",
        "Se realiza una descripcion de cada columna, con el comando value_counts(), este no se agrega con el fin de no extenderse en el código.\n",
        "\n",
        "*`df['Nombrecolumna'].value_counts()`*"
      ],
      "metadata": {
        "id": "ZPR8s__AvNmj"
      }
    },
    {
      "cell_type": "code",
      "source": [
        "df['Country'].value_counts() #Ejemplo.\n"
      ],
      "metadata": {
        "colab": {
          "base_uri": "https://localhost:8080/"
        },
        "id": "mFOEAvRCDXlr",
        "outputId": "6e1555d2-3f75-4432-9f4e-ad13d2ac7af9"
      },
      "execution_count": null,
      "outputs": [
        {
          "output_type": "execute_result",
          "data": {
            "text/plain": [
              "Afghanistan              16\n",
              "Peru                     16\n",
              "Nicaragua                16\n",
              "Niger                    16\n",
              "Nigeria                  16\n",
              "                         ..\n",
              "Niue                      1\n",
              "San Marino                1\n",
              "Nauru                     1\n",
              "Saint Kitts and Nevis     1\n",
              "Dominica                  1\n",
              "Name: Country, Length: 193, dtype: int64"
            ]
          },
          "metadata": {},
          "execution_count": 6
        }
      ]
    },
    {
      "cell_type": "markdown",
      "source": [
        "0. Country: Pais de estudio (193 paises)\n",
        "1. Year: Año de estudio, datos del año 2000 al 2015.\n",
        "2. Status: Estado del pais, desarrollado o sub desarrollado.\n",
        "3. Life expectancy: Esperanza de vida en edad.\n",
        "4. Adult Mortality: Tasas de Mortalidad de Adultos de ambos sexos (probabilidad de morir entre los 15 y los 60 años por 1000 habitantes)\n",
        "5. infant deaths: Número de muertes infantiles por cada 1000 habitantes\n",
        "6. Alcohol: Alcohol, consumo per cápita registrado (mayores de 15 años) (en litros de alcohol puro). Este es un indicador preciso y confiable para monitorear las tendencias en el consumo de alcohol.\n",
        "7. percentage expenditure: Gasto en salud como porcentaje del Producto Interno Bruto per cápita (%). Indicador que trata del gasto total en salud, dividido entre todos los habitantes.\n",
        "8. Hepatitis B: Cobertura de vacunación contra la hepatitis B (HepB) entre los niños de 1 año (%) de población.\n",
        "9. Measles: Sarampión - número de casos notificados por 1000 habitantes.\n",
        "10. BMI: Índice de masa corporal promedio de toda la población.\n",
        "11. under-five deaths: Número de muertes de menores de cinco años por cada 1000 habitantes\n",
        "12. Polio: Cobertura de vacunación contra la poliomielitis (Pol3) entre los niños de 1 año (%) (La poliomielitis es una enfermedad muy contagiosa causada por un virus que invade el sistema nervioso y puede causar una parálisis total en cuestión de horas).\n",
        "13. Total expenditure: Gasto del gobierno general en salud como porcentaje del gasto total del gobierno (%)\n",
        "14. Diphtheria: Cobertura de inmunización con toxoide diftérico, tétanos y tos ferina (DTP3) entre los niños de 1 año (%).\n",
        "15. HIV/AIDS: Muertes por cada 1000 nacidos vivos por VIH/SIDA, intervalo de edad (0-4 años)\n",
        "16. GDP: Producto Interno Bruto per cápita (en USD). (Relación entre el valor total de todos los bienes y servicios finales generados durante un año por la economía de una nación o estado y el número de sus habitantes en ese año).\n",
        "17. Population: Población del país.\n",
        "18. thinness 10-19 years: Prevalencia de delgadez en niños y adolescentes de 10 a 19 años (%) (Obesidad).\n",
        "19. thinness 5-9 years: Prevalencia de delgadez en niños y adolescentes de 5 a 9 años (%) (Obesidad).\n",
        "20. Income composition of resources: Índice de Desarrollo Humano en términos de composición de ingresos de los recursos (índice que va de 0 a 1)\n",
        "21. Schooling: Número de años de escolaridad (años)..\n",
        "\n"
      ],
      "metadata": {
        "id": "lsaykood-Mo4"
      }
    },
    {
      "cell_type": "code",
      "source": [
        "df.isnull().sum() #Conteo de datos faltantes por columnas."
      ],
      "metadata": {
        "colab": {
          "base_uri": "https://localhost:8080/"
        },
        "id": "kGPy-Kp5vOTh",
        "outputId": "d0675065-d776-4659-d97e-d15502f9e2fc"
      },
      "execution_count": null,
      "outputs": [
        {
          "output_type": "execute_result",
          "data": {
            "text/plain": [
              "Country                              0\n",
              "Year                                 0\n",
              "Status                               0\n",
              "Life expectancy                     10\n",
              "Adult Mortality                     10\n",
              "infant deaths                        0\n",
              "Alcohol                            194\n",
              "percentage expenditure               0\n",
              "Hepatitis B                        553\n",
              "Measles                              0\n",
              " BMI                                34\n",
              "under-five deaths                    0\n",
              "Polio                               19\n",
              "Total expenditure                  226\n",
              "Diphtheria                          19\n",
              " HIV/AIDS                            0\n",
              "GDP                                448\n",
              "Population                         652\n",
              " thinness  1-19 years               34\n",
              " thinness 5-9 years                 34\n",
              "Income composition of resources    167\n",
              "Schooling                          163\n",
              "dtype: int64"
            ]
          },
          "metadata": {},
          "execution_count": 7
        }
      ]
    },
    {
      "cell_type": "markdown",
      "source": [
        "Se evidencia un alta cantidad de datos faltantes en algunas variables, lo cual se tratará en la preparacion de los datos."
      ],
      "metadata": {
        "id": "oq6RXfTsxEV8"
      }
    },
    {
      "cell_type": "markdown",
      "source": [
        "Se responden las siguientes preguntas con el fin de entender mejor los datos propuestos: \n",
        "\n",
        "1. ¿Cuáles son las variables más relevantes y con mayor efecto en la esperanza de vida?\n",
        "2. ¿Debería un país con un valor de esperanza de vida más bajo (<65) aumentar los años de escolaridad para mejorar su esperanza de vida media?\n",
        "3. ¿Cuál es el impacto de la cobertura de vacunación en la esperanza de vida?\n",
        "4. ¿A medida que avanza el mundo la esperanza de vida a crecido o ha bajado?\n",
        "5. ¿Se podría estimar la esperanza de vida futura usando alguna variable independiente? \n",
        "\n",
        "`Responderemos mas preguntas a lo largo del trabajo, pero estas seran las principales.`"
      ],
      "metadata": {
        "id": "XQRTibu4WEGt"
      }
    },
    {
      "cell_type": "markdown",
      "source": [
        "# 3. Entendimiento de los datos"
      ],
      "metadata": {
        "id": "Jyl_vED7aVzQ"
      }
    },
    {
      "cell_type": "markdown",
      "source": [
        "Procedemos con el metodo decribe de la biblioteca pandas que nos brinda información valiosa sobre las columnas en nuestro dataframe, en especifico centraremos nuestra atención en las columnas esperanza de vida, mortalidad adulta, porcentaje de gasto y escolaridad. las filas de este arreglo describen en cada ítem datos como: la media, el máximo y el mínimo entre otros, aspectos importantes a tener en cuenta al momento de analizar nuestros datos.\n"
      ],
      "metadata": {
        "id": "8YvAa9OEOD5-"
      }
    },
    {
      "cell_type": "markdown",
      "source": [
        "Este método retorna un dataframe que entre otra información incluye el número de muestras, el valor medio, la desviación estándar, el valor mínimo, máximo, la mediana y los valores correspondientes a los percentiles 25% y 75%.\n",
        "la isntaxis es simple, primero va el nombre del dataframe seguido de un punto y la palabra reservada describe, para luego entre corchetes definir los parametros "
      ],
      "metadata": {
        "id": "C7OiZ0KQ-Duc"
      }
    },
    {
      "cell_type": "code",
      "source": [
        "df.describe(percentiles=None, include=None, exclude=None)"
      ],
      "metadata": {
        "colab": {
          "base_uri": "https://localhost:8080/",
          "height": 416
        },
        "id": "KyRGhk06Mjd6",
        "outputId": "a06ccccb-bc48-4bf0-b59c-8ca457b0bb0f"
      },
      "execution_count": null,
      "outputs": [
        {
          "output_type": "execute_result",
          "data": {
            "text/plain": [
              "              Year  Life expectancy   Adult Mortality  infant deaths  \\\n",
              "count  2938.000000       2928.000000      2928.000000    2938.000000   \n",
              "mean   2007.518720         69.224932       164.796448      30.303948   \n",
              "std       4.613841          9.523867       124.292079     117.926501   \n",
              "min    2000.000000         36.300000         1.000000       0.000000   \n",
              "25%    2004.000000         63.100000        74.000000       0.000000   \n",
              "50%    2008.000000         72.100000       144.000000       3.000000   \n",
              "75%    2012.000000         75.700000       228.000000      22.000000   \n",
              "max    2015.000000         89.000000       723.000000    1800.000000   \n",
              "\n",
              "           Alcohol  percentage expenditure  Hepatitis B       Measles   \\\n",
              "count  2744.000000             2938.000000  2385.000000    2938.000000   \n",
              "mean      4.602861              738.251295    80.940461    2419.592240   \n",
              "std       4.052413             1987.914858    25.070016   11467.272489   \n",
              "min       0.010000                0.000000     1.000000       0.000000   \n",
              "25%       0.877500                4.685343    77.000000       0.000000   \n",
              "50%       3.755000               64.912906    92.000000      17.000000   \n",
              "75%       7.702500              441.534144    97.000000     360.250000   \n",
              "max      17.870000            19479.911610    99.000000  212183.000000   \n",
              "\n",
              "              BMI   under-five deaths         Polio  Total expenditure  \\\n",
              "count  2904.000000         2938.000000  2919.000000         2712.00000   \n",
              "mean     38.321247           42.035739    82.550188            5.93819   \n",
              "std      20.044034          160.445548    23.428046            2.49832   \n",
              "min       1.000000            0.000000     3.000000            0.37000   \n",
              "25%      19.300000            0.000000    78.000000            4.26000   \n",
              "50%      43.500000            4.000000    93.000000            5.75500   \n",
              "75%      56.200000           28.000000    97.000000            7.49250   \n",
              "max      87.300000         2500.000000    99.000000           17.60000   \n",
              "\n",
              "       Diphtheria      HIV/AIDS            GDP    Population  \\\n",
              "count  2919.000000  2938.000000    2490.000000  2.286000e+03   \n",
              "mean     82.324084     1.742103    7483.158469  1.275338e+07   \n",
              "std      23.716912     5.077785   14270.169342  6.101210e+07   \n",
              "min       2.000000     0.100000       1.681350  3.400000e+01   \n",
              "25%      78.000000     0.100000     463.935626  1.957932e+05   \n",
              "50%      93.000000     0.100000    1766.947595  1.386542e+06   \n",
              "75%      97.000000     0.800000    5910.806335  7.420359e+06   \n",
              "max      99.000000    50.600000  119172.741800  1.293859e+09   \n",
              "\n",
              "        thinness  1-19 years   thinness 5-9 years  \\\n",
              "count            2904.000000          2904.000000   \n",
              "mean                4.839704             4.870317   \n",
              "std                 4.420195             4.508882   \n",
              "min                 0.100000             0.100000   \n",
              "25%                 1.600000             1.500000   \n",
              "50%                 3.300000             3.300000   \n",
              "75%                 7.200000             7.200000   \n",
              "max                27.700000            28.600000   \n",
              "\n",
              "       Income composition of resources    Schooling  \n",
              "count                      2771.000000  2775.000000  \n",
              "mean                          0.627551    11.992793  \n",
              "std                           0.210904     3.358920  \n",
              "min                           0.000000     0.000000  \n",
              "25%                           0.493000    10.100000  \n",
              "50%                           0.677000    12.300000  \n",
              "75%                           0.779000    14.300000  \n",
              "max                           0.948000    20.700000  "
            ],
            "text/html": [
              "\n",
              "  <div id=\"df-d1192ca1-0937-4b81-85ca-c3ca1e19f0fc\">\n",
              "    <div class=\"colab-df-container\">\n",
              "      <div>\n",
              "<style scoped>\n",
              "    .dataframe tbody tr th:only-of-type {\n",
              "        vertical-align: middle;\n",
              "    }\n",
              "\n",
              "    .dataframe tbody tr th {\n",
              "        vertical-align: top;\n",
              "    }\n",
              "\n",
              "    .dataframe thead th {\n",
              "        text-align: right;\n",
              "    }\n",
              "</style>\n",
              "<table border=\"1\" class=\"dataframe\">\n",
              "  <thead>\n",
              "    <tr style=\"text-align: right;\">\n",
              "      <th></th>\n",
              "      <th>Year</th>\n",
              "      <th>Life expectancy</th>\n",
              "      <th>Adult Mortality</th>\n",
              "      <th>infant deaths</th>\n",
              "      <th>Alcohol</th>\n",
              "      <th>percentage expenditure</th>\n",
              "      <th>Hepatitis B</th>\n",
              "      <th>Measles</th>\n",
              "      <th>BMI</th>\n",
              "      <th>under-five deaths</th>\n",
              "      <th>Polio</th>\n",
              "      <th>Total expenditure</th>\n",
              "      <th>Diphtheria</th>\n",
              "      <th>HIV/AIDS</th>\n",
              "      <th>GDP</th>\n",
              "      <th>Population</th>\n",
              "      <th>thinness  1-19 years</th>\n",
              "      <th>thinness 5-9 years</th>\n",
              "      <th>Income composition of resources</th>\n",
              "      <th>Schooling</th>\n",
              "    </tr>\n",
              "  </thead>\n",
              "  <tbody>\n",
              "    <tr>\n",
              "      <th>count</th>\n",
              "      <td>2938.000000</td>\n",
              "      <td>2928.000000</td>\n",
              "      <td>2928.000000</td>\n",
              "      <td>2938.000000</td>\n",
              "      <td>2744.000000</td>\n",
              "      <td>2938.000000</td>\n",
              "      <td>2385.000000</td>\n",
              "      <td>2938.000000</td>\n",
              "      <td>2904.000000</td>\n",
              "      <td>2938.000000</td>\n",
              "      <td>2919.000000</td>\n",
              "      <td>2712.00000</td>\n",
              "      <td>2919.000000</td>\n",
              "      <td>2938.000000</td>\n",
              "      <td>2490.000000</td>\n",
              "      <td>2.286000e+03</td>\n",
              "      <td>2904.000000</td>\n",
              "      <td>2904.000000</td>\n",
              "      <td>2771.000000</td>\n",
              "      <td>2775.000000</td>\n",
              "    </tr>\n",
              "    <tr>\n",
              "      <th>mean</th>\n",
              "      <td>2007.518720</td>\n",
              "      <td>69.224932</td>\n",
              "      <td>164.796448</td>\n",
              "      <td>30.303948</td>\n",
              "      <td>4.602861</td>\n",
              "      <td>738.251295</td>\n",
              "      <td>80.940461</td>\n",
              "      <td>2419.592240</td>\n",
              "      <td>38.321247</td>\n",
              "      <td>42.035739</td>\n",
              "      <td>82.550188</td>\n",
              "      <td>5.93819</td>\n",
              "      <td>82.324084</td>\n",
              "      <td>1.742103</td>\n",
              "      <td>7483.158469</td>\n",
              "      <td>1.275338e+07</td>\n",
              "      <td>4.839704</td>\n",
              "      <td>4.870317</td>\n",
              "      <td>0.627551</td>\n",
              "      <td>11.992793</td>\n",
              "    </tr>\n",
              "    <tr>\n",
              "      <th>std</th>\n",
              "      <td>4.613841</td>\n",
              "      <td>9.523867</td>\n",
              "      <td>124.292079</td>\n",
              "      <td>117.926501</td>\n",
              "      <td>4.052413</td>\n",
              "      <td>1987.914858</td>\n",
              "      <td>25.070016</td>\n",
              "      <td>11467.272489</td>\n",
              "      <td>20.044034</td>\n",
              "      <td>160.445548</td>\n",
              "      <td>23.428046</td>\n",
              "      <td>2.49832</td>\n",
              "      <td>23.716912</td>\n",
              "      <td>5.077785</td>\n",
              "      <td>14270.169342</td>\n",
              "      <td>6.101210e+07</td>\n",
              "      <td>4.420195</td>\n",
              "      <td>4.508882</td>\n",
              "      <td>0.210904</td>\n",
              "      <td>3.358920</td>\n",
              "    </tr>\n",
              "    <tr>\n",
              "      <th>min</th>\n",
              "      <td>2000.000000</td>\n",
              "      <td>36.300000</td>\n",
              "      <td>1.000000</td>\n",
              "      <td>0.000000</td>\n",
              "      <td>0.010000</td>\n",
              "      <td>0.000000</td>\n",
              "      <td>1.000000</td>\n",
              "      <td>0.000000</td>\n",
              "      <td>1.000000</td>\n",
              "      <td>0.000000</td>\n",
              "      <td>3.000000</td>\n",
              "      <td>0.37000</td>\n",
              "      <td>2.000000</td>\n",
              "      <td>0.100000</td>\n",
              "      <td>1.681350</td>\n",
              "      <td>3.400000e+01</td>\n",
              "      <td>0.100000</td>\n",
              "      <td>0.100000</td>\n",
              "      <td>0.000000</td>\n",
              "      <td>0.000000</td>\n",
              "    </tr>\n",
              "    <tr>\n",
              "      <th>25%</th>\n",
              "      <td>2004.000000</td>\n",
              "      <td>63.100000</td>\n",
              "      <td>74.000000</td>\n",
              "      <td>0.000000</td>\n",
              "      <td>0.877500</td>\n",
              "      <td>4.685343</td>\n",
              "      <td>77.000000</td>\n",
              "      <td>0.000000</td>\n",
              "      <td>19.300000</td>\n",
              "      <td>0.000000</td>\n",
              "      <td>78.000000</td>\n",
              "      <td>4.26000</td>\n",
              "      <td>78.000000</td>\n",
              "      <td>0.100000</td>\n",
              "      <td>463.935626</td>\n",
              "      <td>1.957932e+05</td>\n",
              "      <td>1.600000</td>\n",
              "      <td>1.500000</td>\n",
              "      <td>0.493000</td>\n",
              "      <td>10.100000</td>\n",
              "    </tr>\n",
              "    <tr>\n",
              "      <th>50%</th>\n",
              "      <td>2008.000000</td>\n",
              "      <td>72.100000</td>\n",
              "      <td>144.000000</td>\n",
              "      <td>3.000000</td>\n",
              "      <td>3.755000</td>\n",
              "      <td>64.912906</td>\n",
              "      <td>92.000000</td>\n",
              "      <td>17.000000</td>\n",
              "      <td>43.500000</td>\n",
              "      <td>4.000000</td>\n",
              "      <td>93.000000</td>\n",
              "      <td>5.75500</td>\n",
              "      <td>93.000000</td>\n",
              "      <td>0.100000</td>\n",
              "      <td>1766.947595</td>\n",
              "      <td>1.386542e+06</td>\n",
              "      <td>3.300000</td>\n",
              "      <td>3.300000</td>\n",
              "      <td>0.677000</td>\n",
              "      <td>12.300000</td>\n",
              "    </tr>\n",
              "    <tr>\n",
              "      <th>75%</th>\n",
              "      <td>2012.000000</td>\n",
              "      <td>75.700000</td>\n",
              "      <td>228.000000</td>\n",
              "      <td>22.000000</td>\n",
              "      <td>7.702500</td>\n",
              "      <td>441.534144</td>\n",
              "      <td>97.000000</td>\n",
              "      <td>360.250000</td>\n",
              "      <td>56.200000</td>\n",
              "      <td>28.000000</td>\n",
              "      <td>97.000000</td>\n",
              "      <td>7.49250</td>\n",
              "      <td>97.000000</td>\n",
              "      <td>0.800000</td>\n",
              "      <td>5910.806335</td>\n",
              "      <td>7.420359e+06</td>\n",
              "      <td>7.200000</td>\n",
              "      <td>7.200000</td>\n",
              "      <td>0.779000</td>\n",
              "      <td>14.300000</td>\n",
              "    </tr>\n",
              "    <tr>\n",
              "      <th>max</th>\n",
              "      <td>2015.000000</td>\n",
              "      <td>89.000000</td>\n",
              "      <td>723.000000</td>\n",
              "      <td>1800.000000</td>\n",
              "      <td>17.870000</td>\n",
              "      <td>19479.911610</td>\n",
              "      <td>99.000000</td>\n",
              "      <td>212183.000000</td>\n",
              "      <td>87.300000</td>\n",
              "      <td>2500.000000</td>\n",
              "      <td>99.000000</td>\n",
              "      <td>17.60000</td>\n",
              "      <td>99.000000</td>\n",
              "      <td>50.600000</td>\n",
              "      <td>119172.741800</td>\n",
              "      <td>1.293859e+09</td>\n",
              "      <td>27.700000</td>\n",
              "      <td>28.600000</td>\n",
              "      <td>0.948000</td>\n",
              "      <td>20.700000</td>\n",
              "    </tr>\n",
              "  </tbody>\n",
              "</table>\n",
              "</div>\n",
              "      <button class=\"colab-df-convert\" onclick=\"convertToInteractive('df-d1192ca1-0937-4b81-85ca-c3ca1e19f0fc')\"\n",
              "              title=\"Convert this dataframe to an interactive table.\"\n",
              "              style=\"display:none;\">\n",
              "        \n",
              "  <svg xmlns=\"http://www.w3.org/2000/svg\" height=\"24px\"viewBox=\"0 0 24 24\"\n",
              "       width=\"24px\">\n",
              "    <path d=\"M0 0h24v24H0V0z\" fill=\"none\"/>\n",
              "    <path d=\"M18.56 5.44l.94 2.06.94-2.06 2.06-.94-2.06-.94-.94-2.06-.94 2.06-2.06.94zm-11 1L8.5 8.5l.94-2.06 2.06-.94-2.06-.94L8.5 2.5l-.94 2.06-2.06.94zm10 10l.94 2.06.94-2.06 2.06-.94-2.06-.94-.94-2.06-.94 2.06-2.06.94z\"/><path d=\"M17.41 7.96l-1.37-1.37c-.4-.4-.92-.59-1.43-.59-.52 0-1.04.2-1.43.59L10.3 9.45l-7.72 7.72c-.78.78-.78 2.05 0 2.83L4 21.41c.39.39.9.59 1.41.59.51 0 1.02-.2 1.41-.59l7.78-7.78 2.81-2.81c.8-.78.8-2.07 0-2.86zM5.41 20L4 18.59l7.72-7.72 1.47 1.35L5.41 20z\"/>\n",
              "  </svg>\n",
              "      </button>\n",
              "      \n",
              "  <style>\n",
              "    .colab-df-container {\n",
              "      display:flex;\n",
              "      flex-wrap:wrap;\n",
              "      gap: 12px;\n",
              "    }\n",
              "\n",
              "    .colab-df-convert {\n",
              "      background-color: #E8F0FE;\n",
              "      border: none;\n",
              "      border-radius: 50%;\n",
              "      cursor: pointer;\n",
              "      display: none;\n",
              "      fill: #1967D2;\n",
              "      height: 32px;\n",
              "      padding: 0 0 0 0;\n",
              "      width: 32px;\n",
              "    }\n",
              "\n",
              "    .colab-df-convert:hover {\n",
              "      background-color: #E2EBFA;\n",
              "      box-shadow: 0px 1px 2px rgba(60, 64, 67, 0.3), 0px 1px 3px 1px rgba(60, 64, 67, 0.15);\n",
              "      fill: #174EA6;\n",
              "    }\n",
              "\n",
              "    [theme=dark] .colab-df-convert {\n",
              "      background-color: #3B4455;\n",
              "      fill: #D2E3FC;\n",
              "    }\n",
              "\n",
              "    [theme=dark] .colab-df-convert:hover {\n",
              "      background-color: #434B5C;\n",
              "      box-shadow: 0px 1px 3px 1px rgba(0, 0, 0, 0.15);\n",
              "      filter: drop-shadow(0px 1px 2px rgba(0, 0, 0, 0.3));\n",
              "      fill: #FFFFFF;\n",
              "    }\n",
              "  </style>\n",
              "\n",
              "      <script>\n",
              "        const buttonEl =\n",
              "          document.querySelector('#df-d1192ca1-0937-4b81-85ca-c3ca1e19f0fc button.colab-df-convert');\n",
              "        buttonEl.style.display =\n",
              "          google.colab.kernel.accessAllowed ? 'block' : 'none';\n",
              "\n",
              "        async function convertToInteractive(key) {\n",
              "          const element = document.querySelector('#df-d1192ca1-0937-4b81-85ca-c3ca1e19f0fc');\n",
              "          const dataTable =\n",
              "            await google.colab.kernel.invokeFunction('convertToInteractive',\n",
              "                                                     [key], {});\n",
              "          if (!dataTable) return;\n",
              "\n",
              "          const docLinkHtml = 'Like what you see? Visit the ' +\n",
              "            '<a target=\"_blank\" href=https://colab.research.google.com/notebooks/data_table.ipynb>data table notebook</a>'\n",
              "            + ' to learn more about interactive tables.';\n",
              "          element.innerHTML = '';\n",
              "          dataTable['output_type'] = 'display_data';\n",
              "          await google.colab.output.renderOutput(dataTable, element);\n",
              "          const docLink = document.createElement('div');\n",
              "          docLink.innerHTML = docLinkHtml;\n",
              "          element.appendChild(docLink);\n",
              "        }\n",
              "      </script>\n",
              "    </div>\n",
              "  </div>\n",
              "  "
            ]
          },
          "metadata": {},
          "execution_count": 8
        }
      ]
    },
    {
      "cell_type": "markdown",
      "source": [
        "los parametos para este metodo son:\n",
        "\n",
        "percentile: es una medida de posición usada en estadística, que nos muestra el valor de la variable por debajo del cual se encuentra un porcentaje dado, cuando tenemos los datos de observaciones ordenados de menor a mayor.\n",
        "\n",
        "include: Es una lista de tipos de datos que se incluirán al describir el marco de datos. El valor predeterminado es nulo\n",
        "\n",
        "exclude: \n",
        "Es una lista de tipos de datos que se excluirán al describir el marco de datos. El valor predeterminado es nulo"
      ],
      "metadata": {
        "id": "Uxe7cr-xMvnC"
      }
    },
    {
      "cell_type": "markdown",
      "source": [
        "\n",
        "**Media**\n",
        "\n",
        "La media o el promedio de un conjunto de datos se halla al sumar todos los números en el conjunto de datos y luego dividir este resultado entre el número de valores en el conjunto. \n",
        "$$\\mu= \\frac{1}{N}\\sum_{i=1}^Nx_i$$\n",
        "$$\\bar{x}= \\frac{1}{n}\\sum_{i=1}^nx_i$$\n",
        "Este numero debe cumplir que \n",
        "\n",
        "\n",
        "\n",
        "$$  min\\{x_1.....x_n\\}  \t\\leq\t\\widehat{x}\\leq max\\{x_1.....x_n\\}$$\n",
        "o que \n",
        "$$\\widehat{x}=x_1 \\hspace{2 cm}x_1=x_2=......x_n$$\n",
        "\n",
        "**Mediana**\n",
        "\n",
        "Es el valor medio cuando un conjunto de datos se ordena de menor a mayor.Para el cálculo de la mediana \n",
        "debemos clasisifcar el conjunto de datos en orden\n",
        "hallar el termino medio, este valor es la mediana\n",
        "\n",
        "**Moda**\n",
        " Es el número que se presenta con más frecuencia en un conjunto de datos.\n",
        "\n",
        "**Desviación estándar** \n",
        "\n",
        "También conocida como desviación típica casi siempre esta respresentada de manera abreviada por la letra griega minúscula sigma σ o la letra s, así como por las siglas SD de standard deviation,  es una medida que se utiliza para cuantificar la variación o la dispersión de un conjunto de datos numéricos.\n",
        "\n",
        "$$σ^2=\\frac{\\sum m^2f-\\frac{(∑mf)^2}{N}}{N}$$\n",
        "$$s^2=\\frac{\\sum m^2f-\\frac{(∑mf)^2}{n}}{n-1}$$\n",
        "Con $σ^2$ variacion de la población, $s^2$ variacion de la muestra y $m$ el punto medio del conjunto\n",
        "\n",
        "Una desviación estándar baja indica que la mayor parte de los datos de una muestra tienden a estar agrupados cerca de su media (también denominada el valor esperado), mientras que una desviación estándar alta indica que los datos se extienden sobre un rango de valores más amplio."
      ],
      "metadata": {
        "id": "ld7bLO4-X1u2"
      }
    },
    {
      "cell_type": "markdown",
      "source": [
        "En éste cuadro de texto se hará un análisis de la variable \"life expectancy\" o expectativa de vida, apartir de las medidas de muestreo en la tabla superior\n",
        "\n",
        "\n",
        "En la característica de count podemos ver que recolectamos 2928 datos, \"mean\" o media por definicion sabemos que es acá donde tiende la mayor cantidad de datos, es decir en promedio la población mundial vivió 69.224932\tentre el 2010 y el 2015, \"std\" o la desviación estandar es una medida que nos muestra qué tanto es la amplitud de la gráfica de disperción de datos, es decir que aunque la mayoría de paises tengan como esperanza de vida 69,2 existe un delta  al rededor del 69,2 donde delta es 9.523867 y ahí se aglomeraría aproximadamente el 75% de la información\t \n",
        "\n",
        "\n",
        "Por otra parte podemos analizar que en esos años la menor esperanza de vida fue 36.3 y la mayor fue 89, otro análisis que podemos ver es que el primer cuarto de datos es menor o igual a 63,1, la mitad de los datos es menor o igual a 72.1y el último cuarto de datos es mayor o igual a 75,7."
      ],
      "metadata": {
        "id": "jAh0EfAG0UV-"
      }
    },
    {
      "cell_type": "markdown",
      "source": [
        "#### 3.1. ¿Cual es el pais y el año con menor esperanza de vida?"
      ],
      "metadata": {
        "id": "zv7B10IGF2hO"
      }
    },
    {
      "cell_type": "code",
      "source": [
        "minE = df['Life expectancy '].min()\n",
        "minPais = df[df['Life expectancy ']==minE]['Country']\n",
        "minaño = df[df['Life expectancy ']==minE]['Year']"
      ],
      "metadata": {
        "id": "gbgKA4m1F444"
      },
      "execution_count": null,
      "outputs": []
    },
    {
      "cell_type": "code",
      "source": [
        "print(f\"El pais con menor esperanza de vida fue {minPais[1127]}, con {minE} años, en el año {minaño[1127]}.\")"
      ],
      "metadata": {
        "colab": {
          "base_uri": "https://localhost:8080/"
        },
        "id": "9XjbuXIzG0Kn",
        "outputId": "ea1f42a2-beee-4502-a583-0fe445a5a0b5"
      },
      "execution_count": null,
      "outputs": [
        {
          "output_type": "stream",
          "name": "stdout",
          "text": [
            "El pais con menor esperanza de vida fue Haiti, con 36.3 años, en el año 2010.\n"
          ]
        }
      ]
    },
    {
      "cell_type": "code",
      "source": [
        "df_min = df.groupby('Country')\n",
        "df_min = df_min.get_group('Haiti')"
      ],
      "metadata": {
        "id": "6n7YOYt1F7Hv"
      },
      "execution_count": null,
      "outputs": []
    },
    {
      "cell_type": "code",
      "source": [
        "plt.plot(df_min['Year'],df_min['Life expectancy '])\n",
        "plt.xlabel(\"Año\")\n",
        "plt.ylabel(\"Esperanza de vida\")\n",
        "plt.title('Esperanza de vida Haiti')"
      ],
      "metadata": {
        "colab": {
          "base_uri": "https://localhost:8080/",
          "height": 312
        },
        "id": "YNougkIOGczE",
        "outputId": "7578f243-7a7e-4b86-fa71-65728e28ae3a"
      },
      "execution_count": null,
      "outputs": [
        {
          "output_type": "execute_result",
          "data": {
            "text/plain": [
              "Text(0.5, 1.0, 'Esperanza de vida Haiti')"
            ]
          },
          "metadata": {},
          "execution_count": 12
        },
        {
          "output_type": "display_data",
          "data": {
            "text/plain": [
              "<Figure size 432x288 with 1 Axes>"
            ],
            "image/png": "[encoded data removed]"
          },
          "metadata": {
            "needs_background": "light"
          }
        }
      ]
    },
    {
      "cell_type": "markdown",
      "source": [
        "Haiti sufrió un terremoto en el año 2010. Esto provocó una disminución drastica en la esperanza de vida del país.\n",
        "\n",
        "\n",
        "Podemos ver como este dato afecta a la tendencia normal que llevava la esperanza de vida, procederemos a quitarlo en la limpieza de datos porqué se considera un dato atipico.\n"
      ],
      "metadata": {
        "id": "FOMQhX8sHDBS"
      }
    },
    {
      "cell_type": "markdown",
      "source": [
        "####3.2. ¿Como fue el promedio de vida en todos los años? ¿Subió o bajó el promedio de vida a medida que pasaba el tiempo?"
      ],
      "metadata": {
        "id": "B35jGSItHGyz"
      }
    },
    {
      "cell_type": "code",
      "source": [
        "df_año = df[{'Year','Life expectancy '}] #Nuevo DataFrame con las dos columnas que nos interesan\n",
        "df_año2 = df_año.groupby('Year').mean() #Agrupamos por año y sacamos los promedios de cada uno."
      ],
      "metadata": {
        "id": "q7zecupLG9xO"
      },
      "execution_count": null,
      "outputs": []
    },
    {
      "cell_type": "code",
      "source": [
        "#Graficamos \n",
        "df_año2.plot(kind = 'bar', \n",
        "             figsize=(10,7)) #66.750273,71.61694"
      ],
      "metadata": {
        "colab": {
          "base_uri": "https://localhost:8080/",
          "height": 475
        },
        "id": "e5fIRzXDHI5A",
        "outputId": "a3342669-aec8-4b74-971d-bb409425466c"
      },
      "execution_count": null,
      "outputs": [
        {
          "output_type": "execute_result",
          "data": {
            "text/plain": [
              "<matplotlib.axes._subplots.AxesSubplot at 0x7f1423b76ed0>"
            ]
          },
          "metadata": {},
          "execution_count": 14
        },
        {
          "output_type": "display_data",
          "data": {
            "text/plain": [
              "<Figure size 720x504 with 1 Axes>"
            ],
            "image/png": "[encoded data removed]"
          },
          "metadata": {
            "needs_background": "light"
          }
        }
      ]
    },
    {
      "cell_type": "markdown",
      "source": [
        "EL promedio de vida entre el año 2000 y 2015 si creció año tras año, el minimo de este fue 66.75 en el año 2000 y 71.61 en el año 2015."
      ],
      "metadata": {
        "id": "QYtuPANiHN0Q"
      }
    },
    {
      "cell_type": "markdown",
      "source": [
        "#### 3.3. Gráficas de distribuciones."
      ],
      "metadata": {
        "id": "bfwwT4K0HQh4"
      }
    },
    {
      "cell_type": "code",
      "source": [
        "#Histograma esperanza de vida.\n",
        "plt.figure(figsize=(10,10))\n",
        "sns.set(style=\"darkgrid\")\n",
        "sns.histplot(df['Life expectancy '],bins=20,color='purple')"
      ],
      "metadata": {
        "colab": {
          "base_uri": "https://localhost:8080/",
          "height": 628
        },
        "id": "0aOqH6_tHLLO",
        "outputId": "7f3c5932-4d7e-4b70-dd21-53ee6806d495"
      },
      "execution_count": null,
      "outputs": [
        {
          "output_type": "execute_result",
          "data": {
            "text/plain": [
              "<matplotlib.axes._subplots.AxesSubplot at 0x7f1423ad1590>"
            ]
          },
          "metadata": {},
          "execution_count": 15
        },
        {
          "output_type": "display_data",
          "data": {
            "text/plain": [
              "<Figure size 720x720 with 1 Axes>"
            ],
            "image/png": "[encoded data removed]"
          },
          "metadata": {
            "needs_background": "light"
          }
        }
      ]
    },
    {
      "cell_type": "markdown",
      "source": [
        "Se observa una gran distribucion de los datos entre los 68 y 79 años.\n",
        "\n",
        "Tambien se ve una baja distribución a los extremos del histograma, es decir una alta o baja espectativa de vida."
      ],
      "metadata": {
        "id": "KNKqY0F6HVOu"
      }
    },
    {
      "cell_type": "code",
      "source": [
        "#Histograma mortalidad adulta.\n",
        "plt.figure(figsize=(10,10))\n",
        "sns.set(style=\"darkgrid\")\n",
        "sns.histplot(df['Adult Mortality'],bins=20,color='black')"
      ],
      "metadata": {
        "colab": {
          "base_uri": "https://localhost:8080/",
          "height": 628
        },
        "id": "Y3hQzt9WHSjd",
        "outputId": "5bf266a7-a95e-4d05-d6a6-5c9c2996b088"
      },
      "execution_count": null,
      "outputs": [
        {
          "output_type": "execute_result",
          "data": {
            "text/plain": [
              "<matplotlib.axes._subplots.AxesSubplot at 0x7f1423a24ed0>"
            ]
          },
          "metadata": {},
          "execution_count": 16
        },
        {
          "output_type": "display_data",
          "data": {
            "text/plain": [
              "<Figure size 720x720 with 1 Axes>"
            ],
            "image/png": "[encoded data removed]"
          },
          "metadata": {}
        }
      ]
    },
    {
      "cell_type": "markdown",
      "source": [
        "Esta columna tiene los datos de la tasa de mortalidad en adultos, la probabilidad de morir entre los 15 y 60 años de edad por 1000 habitantes,\n",
        "Se observa en el histograma que en general, la mayoria de la poblacion de nuestro data frame, tuvo menos del 20% de probabilidades de morir entre los 15 y 60 años, tambien nos causa curiosidad ver como hubo paises que tenian entre el 60% y 70% de probabilidades de muerte."
      ],
      "metadata": {
        "id": "VsFZjNFfHYPI"
      }
    },
    {
      "cell_type": "code",
      "source": [
        "#Histograma alcohol\n",
        "plt.figure(figsize=(10,10))\n",
        "sns.set(style=\"darkgrid\")\n",
        "sns.histplot(df['Alcohol'],color='blue')"
      ],
      "metadata": {
        "colab": {
          "base_uri": "https://localhost:8080/",
          "height": 628
        },
        "id": "B4_1K-zMHXIS",
        "outputId": "9fea6387-215a-4648-800c-dc172b626966"
      },
      "execution_count": null,
      "outputs": [
        {
          "output_type": "execute_result",
          "data": {
            "text/plain": [
              "<matplotlib.axes._subplots.AxesSubplot at 0x7f14239481d0>"
            ]
          },
          "metadata": {},
          "execution_count": 17
        },
        {
          "output_type": "display_data",
          "data": {
            "text/plain": [
              "<Figure size 720x720 with 1 Axes>"
            ],
            "image/png": "[encoded data removed]"
          },
          "metadata": {}
        }
      ]
    },
    {
      "cell_type": "markdown",
      "source": [
        "En la distribución se ve mayor concentracion en numeros de litros menores a 2.5, sin embargo no se descartan los numeros mayores ya que es preocupante el consumo de alcohol en litros mayores a 5."
      ],
      "metadata": {
        "id": "Hj2ylyGeHeb-"
      }
    },
    {
      "cell_type": "code",
      "source": [
        "#Distribucion de alcohol por años.\n",
        "plt.figure(figsize=(10,10))\n",
        "sns.boxplot(x=df[\"Year\"],\n",
        "            y=df['Alcohol'],\n",
        "            palette ='Set2')"
      ],
      "metadata": {
        "colab": {
          "base_uri": "https://localhost:8080/",
          "height": 628
        },
        "id": "w2c_CjR1HcW8",
        "outputId": "f4dc53f2-c507-45e2-ec1c-33a7aba754a8"
      },
      "execution_count": null,
      "outputs": [
        {
          "output_type": "execute_result",
          "data": {
            "text/plain": [
              "<matplotlib.axes._subplots.AxesSubplot at 0x7f142390be50>"
            ]
          },
          "metadata": {},
          "execution_count": 18
        },
        {
          "output_type": "display_data",
          "data": {
            "text/plain": [
              "<Figure size 720x720 with 1 Axes>"
            ],
            "image/png": "[encoded data removed]"
          },
          "metadata": {}
        }
      ]
    },
    {
      "cell_type": "markdown",
      "source": [
        "Se observa que el consumo maximo de alcohol por litros fue en el 2007.\n",
        "\n",
        "La mediana del año 2000 al 2007 se mantuvo con poca variavilidad, sin embargo en 2014 esta bajo considerablemente, pero en el siguiente año supero la mediana de los años anteriores."
      ],
      "metadata": {
        "id": "0q3cDFw1HhbM"
      }
    },
    {
      "cell_type": "code",
      "source": [
        "#Histograma indice de masa corporal.\n",
        "\n",
        "plt.figure(figsize=(10,10))\n",
        "sns.set(style=\"darkgrid\")\n",
        "sns.histplot(df[' BMI '],color='pink')"
      ],
      "metadata": {
        "colab": {
          "base_uri": "https://localhost:8080/",
          "height": 628
        },
        "id": "x2eY0a7BHgg1",
        "outputId": "ad1781d4-88ae-4d19-eda6-e5da57442f1a"
      },
      "execution_count": null,
      "outputs": [
        {
          "output_type": "execute_result",
          "data": {
            "text/plain": [
              "<matplotlib.axes._subplots.AxesSubplot at 0x7f1423948c90>"
            ]
          },
          "metadata": {},
          "execution_count": 19
        },
        {
          "output_type": "display_data",
          "data": {
            "text/plain": [
              "<Figure size 720x720 with 1 Axes>"
            ],
            "image/png": "[encoded data removed]"
          },
          "metadata": {}
        }
      ]
    },
    {
      "cell_type": "markdown",
      "source": [
        "Índice de masa corporal promedio de toda la población es una razón matemática que asocia la masa y la talla del individuo. Se considera que si una persona tiene un IMC mayor a 30 esta en sobrepeso, y la mayoria de nuestra muestra se distribuye por vaores mayores a 30, lo cual no es logico porque no toda la poblacion esta en sobrepeso. \n",
        "Ahora bien, se puede considerar que este data frame es el peso promedio general de la poblacion.\n",
        "Es preocupante ver como gran parte de nuestra muestra se distribuye por pesos menores a los 40kg."
      ],
      "metadata": {
        "id": "U3IH5hXWHxxk"
      }
    },
    {
      "cell_type": "code",
      "source": [
        "#Histograma indice de desarrollo humano.\n",
        "plt.figure(figsize=(10,10))\n",
        "\n",
        "sns.set(style=\"darkgrid\")\n",
        "sns.histplot(df['Income composition of resources'],color='orange')"
      ],
      "metadata": {
        "colab": {
          "base_uri": "https://localhost:8080/",
          "height": 628
        },
        "id": "_2my_W5tHvQa",
        "outputId": "0d159655-685f-457a-c80d-fcc78f7122d1"
      },
      "execution_count": null,
      "outputs": [
        {
          "output_type": "execute_result",
          "data": {
            "text/plain": [
              "<matplotlib.axes._subplots.AxesSubplot at 0x7f14237bd150>"
            ]
          },
          "metadata": {},
          "execution_count": 20
        },
        {
          "output_type": "display_data",
          "data": {
            "text/plain": [
              "<Figure size 720x720 with 1 Axes>"
            ],
            "image/png": "[encoded data removed]"
          },
          "metadata": {}
        }
      ]
    },
    {
      "cell_type": "markdown",
      "source": [
        "L a siguiente grafica muestra "
      ],
      "metadata": {
        "id": "6fsXr5bP_yQb"
      }
    },
    {
      "cell_type": "code",
      "source": [
        "sns.violinplot(data=df, y='Income composition of resources')"
      ],
      "metadata": {
        "colab": {
          "base_uri": "https://localhost:8080/",
          "height": 269
        },
        "id": "NMQxjJ0Pa3Tz",
        "outputId": "c5ffc0c0-5dbd-48cb-cea8-fc82a9e2e92c"
      },
      "execution_count": null,
      "outputs": [
        {
          "output_type": "execute_result",
          "data": {
            "text/plain": [
              "<matplotlib.axes._subplots.AxesSubplot at 0x7fee3305a9d0>"
            ]
          },
          "metadata": {},
          "execution_count": 32
        },
        {
          "output_type": "display_data",
          "data": {
            "text/plain": [
              "<Figure size 432x288 with 1 Axes>"
            ],
            "image/png": "[encoded data removed]"
          },
          "metadata": {
            "needs_background": "light"
          }
        }
      ]
    },
    {
      "cell_type": "code",
      "source": [
        "sns.scatterplot(data=df, x=\"Year\", y=\"Income composition of resources\")"
      ],
      "metadata": {
        "colab": {
          "base_uri": "https://localhost:8080/",
          "height": 296
        },
        "id": "w85eTNUSa_a-",
        "outputId": "1b39998f-ad91-41c9-b0a5-55f8937de5f3"
      },
      "execution_count": null,
      "outputs": [
        {
          "output_type": "execute_result",
          "data": {
            "text/plain": [
              "<matplotlib.axes._subplots.AxesSubplot at 0x7fee32a3a990>"
            ]
          },
          "metadata": {},
          "execution_count": 33
        },
        {
          "output_type": "display_data",
          "data": {
            "text/plain": [
              "<Figure size 432x288 with 1 Axes>"
            ],
            "image/png": "[encoded data removed]"
          },
          "metadata": {
            "needs_background": "light"
          }
        }
      ]
    },
    {
      "cell_type": "markdown",
      "source": [
        "el indice de desarrollo humano es un indicador  elaborado por el programa de naciones unidas para el desarrollo general de la poblacion. Se considera como un indice bajo si el indice se encuentra entre 0,350 y 0,549, ahora bien podemos ver en nuestro histograma que hay muestras por debajo de 0.350, los cuales se consideran datos atipicos, y los eliminaremos en la limpieza de datos, ya que no ayudan a realizar un analisis limpio."
      ],
      "metadata": {
        "id": "43MO8F57H2RG"
      }
    },
    {
      "cell_type": "markdown",
      "source": [],
      "metadata": {
        "id": "2TXcDHyLbExK"
      }
    },
    {
      "cell_type": "code",
      "source": [
        "sns.relplot(data=df, x=\"Year\", y=\"Income composition of resources\", hue=\"Schooling\")"
      ],
      "metadata": {
        "colab": {
          "base_uri": "https://localhost:8080/",
          "height": 386
        },
        "id": "WcNb5vpvPsTp",
        "outputId": "82174055-c8af-412e-9470-a20de966dd19"
      },
      "execution_count": null,
      "outputs": [
        {
          "output_type": "execute_result",
          "data": {
            "text/plain": [
              "<seaborn.axisgrid.FacetGrid at 0x7fee3e6cc790>"
            ]
          },
          "metadata": {},
          "execution_count": 20
        },
        {
          "output_type": "display_data",
          "data": {
            "text/plain": [
              "<Figure size 416.625x360 with 1 Axes>"
            ],
            "image/png": "[encoded data removed]"
          },
          "metadata": {
            "needs_background": "light"
          }
        }
      ]
    },
    {
      "cell_type": "code",
      "source": [
        "awa= df.Year.value_counts().index\n",
        "g = sns.FacetGrid(df, row=\"Year\", row_order=awa,\n",
        "                  height=1.7, aspect=4,)\n",
        "g.map(sns.kdeplot, \"Income composition of resources\")"
      ],
      "metadata": {
        "colab": {
          "base_uri": "https://localhost:8080/",
          "height": 217
        },
        "id": "6cgnGZpIUxJG",
        "outputId": "8fc3a305-00f9-4b07-ad4f-60491f3225ad"
      },
      "execution_count": 2,
      "outputs": [
        {
          "output_type": "error",
          "ename": "NameError",
          "evalue": "ignored",
          "traceback": [
            "\u001b[0;31m---------------------------------------------------------------------------\u001b[0m",
            "\u001b[0;31mNameError\u001b[0m                                 Traceback (most recent call last)",
            "\u001b[0;32m<ipython-input-2-de80c3dc86a2>\u001b[0m in \u001b[0;36m<module>\u001b[0;34m\u001b[0m\n\u001b[0;32m----> 1\u001b[0;31m \u001b[0mawa\u001b[0m\u001b[0;34m=\u001b[0m \u001b[0mdf\u001b[0m\u001b[0;34m.\u001b[0m\u001b[0mYear\u001b[0m\u001b[0;34m.\u001b[0m\u001b[0mvalue_counts\u001b[0m\u001b[0;34m(\u001b[0m\u001b[0;34m)\u001b[0m\u001b[0;34m.\u001b[0m\u001b[0mindex\u001b[0m\u001b[0;34m\u001b[0m\u001b[0;34m\u001b[0m\u001b[0m\n\u001b[0m\u001b[1;32m      2\u001b[0m g = sns.FacetGrid(df, row=\"Year\", row_order=awa,\n\u001b[1;32m      3\u001b[0m                   height=1.7, aspect=4,)\n\u001b[1;32m      4\u001b[0m \u001b[0mg\u001b[0m\u001b[0;34m.\u001b[0m\u001b[0mmap\u001b[0m\u001b[0;34m(\u001b[0m\u001b[0msns\u001b[0m\u001b[0;34m.\u001b[0m\u001b[0mkdeplot\u001b[0m\u001b[0;34m,\u001b[0m \u001b[0;34m\"Income composition of resources\"\u001b[0m\u001b[0;34m)\u001b[0m\u001b[0;34m\u001b[0m\u001b[0;34m\u001b[0m\u001b[0m\n",
            "\u001b[0;31mNameError\u001b[0m: name 'df' is not defined"
          ]
        }
      ]
    },
    {
      "cell_type": "markdown",
      "source": [
        "Un histograma tiene como objetivo aproximar la función de densidad de probabilidad subyacente que generó los datos al agrupar y contar las observaciones. La estimación de la densidad del kernel (KDE) presenta una solución diferente al mismo problema. En lugar de utilizar contenedores discretos, un gráfico de KDE suaviza las observaciones con un núcleo gaussiano, produciendo una estimación de densidad continua"
      ],
      "metadata": {
        "id": "FxXPkvquZ_ye"
      }
    },
    {
      "cell_type": "markdown",
      "source": [
        "## 3.4. Intervalos indice de desarrollo humano."
      ],
      "metadata": {
        "id": "H5N-MAxtH5Wn"
      }
    },
    {
      "cell_type": "code",
      "source": [
        "df_ds = df[{'Income composition of resources'}] #Nuebo DF con la columna de interes."
      ],
      "metadata": {
        "id": "d7X7RDeiHz56"
      },
      "execution_count": null,
      "outputs": []
    },
    {
      "cell_type": "code",
      "source": [
        "#Aplicamos el siguiente codigo para distribuir nuestros datos en 6 intervalos.\n",
        "df_ds['Income composition of resources'] = pd.cut(df_ds[\"Income composition of resources\"], bins=6)\n",
        "df_ds = (df_ds.groupby(\"Income composition of resources\").agg(frecuencia=(\"Income composition of resources\", \"count\")).head(6))                                           \n",
        "df_ds"
      ],
      "metadata": {
        "colab": {
          "base_uri": "https://localhost:8080/",
          "height": 373
        },
        "id": "Qv1fPz-PH8Xj",
        "outputId": "0269fb7d-dd25-43c7-b49b-7a1e34413c55"
      },
      "execution_count": null,
      "outputs": [
        {
          "output_type": "stream",
          "name": "stderr",
          "text": [
            "/usr/local/lib/python3.7/dist-packages/ipykernel_launcher.py:2: SettingWithCopyWarning: \n",
            "A value is trying to be set on a copy of a slice from a DataFrame.\n",
            "Try using .loc[row_indexer,col_indexer] = value instead\n",
            "\n",
            "See the caveats in the documentation: https://pandas.pydata.org/pandas-docs/stable/user_guide/indexing.html#returning-a-view-versus-a-copy\n",
            "  \n"
          ]
        },
        {
          "output_type": "execute_result",
          "data": {
            "text/plain": [
              "                                 frecuencia\n",
              "Income composition of resources            \n",
              "(-0.000948, 0.158]                      130\n",
              "(0.158, 0.316]                           45\n",
              "(0.316, 0.474]                          428\n",
              "(0.474, 0.632]                          558\n",
              "(0.632, 0.79]                           995\n",
              "(0.79, 0.948]                           615"
            ],
            "text/html": [
              "\n",
              "  <div id=\"df-419a032f-e459-48b2-b7e8-1bd113f1b1ed\">\n",
              "    <div class=\"colab-df-container\">\n",
              "      <div>\n",
              "<style scoped>\n",
              "    .dataframe tbody tr th:only-of-type {\n",
              "        vertical-align: middle;\n",
              "    }\n",
              "\n",
              "    .dataframe tbody tr th {\n",
              "        vertical-align: top;\n",
              "    }\n",
              "\n",
              "    .dataframe thead th {\n",
              "        text-align: right;\n",
              "    }\n",
              "</style>\n",
              "<table border=\"1\" class=\"dataframe\">\n",
              "  <thead>\n",
              "    <tr style=\"text-align: right;\">\n",
              "      <th></th>\n",
              "      <th>frecuencia</th>\n",
              "    </tr>\n",
              "    <tr>\n",
              "      <th>Income composition of resources</th>\n",
              "      <th></th>\n",
              "    </tr>\n",
              "  </thead>\n",
              "  <tbody>\n",
              "    <tr>\n",
              "      <th>(-0.000948, 0.158]</th>\n",
              "      <td>130</td>\n",
              "    </tr>\n",
              "    <tr>\n",
              "      <th>(0.158, 0.316]</th>\n",
              "      <td>45</td>\n",
              "    </tr>\n",
              "    <tr>\n",
              "      <th>(0.316, 0.474]</th>\n",
              "      <td>428</td>\n",
              "    </tr>\n",
              "    <tr>\n",
              "      <th>(0.474, 0.632]</th>\n",
              "      <td>558</td>\n",
              "    </tr>\n",
              "    <tr>\n",
              "      <th>(0.632, 0.79]</th>\n",
              "      <td>995</td>\n",
              "    </tr>\n",
              "    <tr>\n",
              "      <th>(0.79, 0.948]</th>\n",
              "      <td>615</td>\n",
              "    </tr>\n",
              "  </tbody>\n",
              "</table>\n",
              "</div>\n",
              "      <button class=\"colab-df-convert\" onclick=\"convertToInteractive('df-419a032f-e459-48b2-b7e8-1bd113f1b1ed')\"\n",
              "              title=\"Convert this dataframe to an interactive table.\"\n",
              "              style=\"display:none;\">\n",
              "        \n",
              "  <svg xmlns=\"http://www.w3.org/2000/svg\" height=\"24px\"viewBox=\"0 0 24 24\"\n",
              "       width=\"24px\">\n",
              "    <path d=\"M0 0h24v24H0V0z\" fill=\"none\"/>\n",
              "    <path d=\"M18.56 5.44l.94 2.06.94-2.06 2.06-.94-2.06-.94-.94-2.06-.94 2.06-2.06.94zm-11 1L8.5 8.5l.94-2.06 2.06-.94-2.06-.94L8.5 2.5l-.94 2.06-2.06.94zm10 10l.94 2.06.94-2.06 2.06-.94-2.06-.94-.94-2.06-.94 2.06-2.06.94z\"/><path d=\"M17.41 7.96l-1.37-1.37c-.4-.4-.92-.59-1.43-.59-.52 0-1.04.2-1.43.59L10.3 9.45l-7.72 7.72c-.78.78-.78 2.05 0 2.83L4 21.41c.39.39.9.59 1.41.59.51 0 1.02-.2 1.41-.59l7.78-7.78 2.81-2.81c.8-.78.8-2.07 0-2.86zM5.41 20L4 18.59l7.72-7.72 1.47 1.35L5.41 20z\"/>\n",
              "  </svg>\n",
              "      </button>\n",
              "      \n",
              "  <style>\n",
              "    .colab-df-container {\n",
              "      display:flex;\n",
              "      flex-wrap:wrap;\n",
              "      gap: 12px;\n",
              "    }\n",
              "\n",
              "    .colab-df-convert {\n",
              "      background-color: #E8F0FE;\n",
              "      border: none;\n",
              "      border-radius: 50%;\n",
              "      cursor: pointer;\n",
              "      display: none;\n",
              "      fill: #1967D2;\n",
              "      height: 32px;\n",
              "      padding: 0 0 0 0;\n",
              "      width: 32px;\n",
              "    }\n",
              "\n",
              "    .colab-df-convert:hover {\n",
              "      background-color: #E2EBFA;\n",
              "      box-shadow: 0px 1px 2px rgba(60, 64, 67, 0.3), 0px 1px 3px 1px rgba(60, 64, 67, 0.15);\n",
              "      fill: #174EA6;\n",
              "    }\n",
              "\n",
              "    [theme=dark] .colab-df-convert {\n",
              "      background-color: #3B4455;\n",
              "      fill: #D2E3FC;\n",
              "    }\n",
              "\n",
              "    [theme=dark] .colab-df-convert:hover {\n",
              "      background-color: #434B5C;\n",
              "      box-shadow: 0px 1px 3px 1px rgba(0, 0, 0, 0.15);\n",
              "      filter: drop-shadow(0px 1px 2px rgba(0, 0, 0, 0.3));\n",
              "      fill: #FFFFFF;\n",
              "    }\n",
              "  </style>\n",
              "\n",
              "      <script>\n",
              "        const buttonEl =\n",
              "          document.querySelector('#df-419a032f-e459-48b2-b7e8-1bd113f1b1ed button.colab-df-convert');\n",
              "        buttonEl.style.display =\n",
              "          google.colab.kernel.accessAllowed ? 'block' : 'none';\n",
              "\n",
              "        async function convertToInteractive(key) {\n",
              "          const element = document.querySelector('#df-419a032f-e459-48b2-b7e8-1bd113f1b1ed');\n",
              "          const dataTable =\n",
              "            await google.colab.kernel.invokeFunction('convertToInteractive',\n",
              "                                                     [key], {});\n",
              "          if (!dataTable) return;\n",
              "\n",
              "          const docLinkHtml = 'Like what you see? Visit the ' +\n",
              "            '<a target=\"_blank\" href=https://colab.research.google.com/notebooks/data_table.ipynb>data table notebook</a>'\n",
              "            + ' to learn more about interactive tables.';\n",
              "          element.innerHTML = '';\n",
              "          dataTable['output_type'] = 'display_data';\n",
              "          await google.colab.output.renderOutput(dataTable, element);\n",
              "          const docLink = document.createElement('div');\n",
              "          docLink.innerHTML = docLinkHtml;\n",
              "          element.appendChild(docLink);\n",
              "        }\n",
              "      </script>\n",
              "    </div>\n",
              "  </div>\n",
              "  "
            ]
          },
          "metadata": {},
          "execution_count": 22
        }
      ]
    },
    {
      "cell_type": "code",
      "source": [
        "#Agregamos la una columna de frecuencia, y restamos 167 al denominador\n",
        "#segun los datos faltantes de la columna.\n",
        "df_ds[\"frec_%\"] = 100*df_ds[\"frecuencia\"] / (len(df)-167)\n",
        "df_ds "
      ],
      "metadata": {
        "colab": {
          "base_uri": "https://localhost:8080/",
          "height": 269
        },
        "id": "TNXlzRzmH92O",
        "outputId": "4e230b0e-b734-45bd-affd-8e6c46967e33"
      },
      "execution_count": null,
      "outputs": [
        {
          "output_type": "execute_result",
          "data": {
            "text/plain": [
              "                                 frecuencia     frec_%\n",
              "Income composition of resources                       \n",
              "(-0.000948, 0.158]                      130   4.691447\n",
              "(0.158, 0.316]                           45   1.623962\n",
              "(0.316, 0.474]                          428  15.445687\n",
              "(0.474, 0.632]                          558  20.137135\n",
              "(0.632, 0.79]                           995  35.907615\n",
              "(0.79, 0.948]                           615  22.194154"
            ],
            "text/html": [
              "\n",
              "  <div id=\"df-a32ea34c-9ff6-4930-b141-8983b858a9c8\">\n",
              "    <div class=\"colab-df-container\">\n",
              "      <div>\n",
              "<style scoped>\n",
              "    .dataframe tbody tr th:only-of-type {\n",
              "        vertical-align: middle;\n",
              "    }\n",
              "\n",
              "    .dataframe tbody tr th {\n",
              "        vertical-align: top;\n",
              "    }\n",
              "\n",
              "    .dataframe thead th {\n",
              "        text-align: right;\n",
              "    }\n",
              "</style>\n",
              "<table border=\"1\" class=\"dataframe\">\n",
              "  <thead>\n",
              "    <tr style=\"text-align: right;\">\n",
              "      <th></th>\n",
              "      <th>frecuencia</th>\n",
              "      <th>frec_%</th>\n",
              "    </tr>\n",
              "    <tr>\n",
              "      <th>Income composition of resources</th>\n",
              "      <th></th>\n",
              "      <th></th>\n",
              "    </tr>\n",
              "  </thead>\n",
              "  <tbody>\n",
              "    <tr>\n",
              "      <th>(-0.000948, 0.158]</th>\n",
              "      <td>130</td>\n",
              "      <td>4.691447</td>\n",
              "    </tr>\n",
              "    <tr>\n",
              "      <th>(0.158, 0.316]</th>\n",
              "      <td>45</td>\n",
              "      <td>1.623962</td>\n",
              "    </tr>\n",
              "    <tr>\n",
              "      <th>(0.316, 0.474]</th>\n",
              "      <td>428</td>\n",
              "      <td>15.445687</td>\n",
              "    </tr>\n",
              "    <tr>\n",
              "      <th>(0.474, 0.632]</th>\n",
              "      <td>558</td>\n",
              "      <td>20.137135</td>\n",
              "    </tr>\n",
              "    <tr>\n",
              "      <th>(0.632, 0.79]</th>\n",
              "      <td>995</td>\n",
              "      <td>35.907615</td>\n",
              "    </tr>\n",
              "    <tr>\n",
              "      <th>(0.79, 0.948]</th>\n",
              "      <td>615</td>\n",
              "      <td>22.194154</td>\n",
              "    </tr>\n",
              "  </tbody>\n",
              "</table>\n",
              "</div>\n",
              "      <button class=\"colab-df-convert\" onclick=\"convertToInteractive('df-a32ea34c-9ff6-4930-b141-8983b858a9c8')\"\n",
              "              title=\"Convert this dataframe to an interactive table.\"\n",
              "              style=\"display:none;\">\n",
              "        \n",
              "  <svg xmlns=\"http://www.w3.org/2000/svg\" height=\"24px\"viewBox=\"0 0 24 24\"\n",
              "       width=\"24px\">\n",
              "    <path d=\"M0 0h24v24H0V0z\" fill=\"none\"/>\n",
              "    <path d=\"M18.56 5.44l.94 2.06.94-2.06 2.06-.94-2.06-.94-.94-2.06-.94 2.06-2.06.94zm-11 1L8.5 8.5l.94-2.06 2.06-.94-2.06-.94L8.5 2.5l-.94 2.06-2.06.94zm10 10l.94 2.06.94-2.06 2.06-.94-2.06-.94-.94-2.06-.94 2.06-2.06.94z\"/><path d=\"M17.41 7.96l-1.37-1.37c-.4-.4-.92-.59-1.43-.59-.52 0-1.04.2-1.43.59L10.3 9.45l-7.72 7.72c-.78.78-.78 2.05 0 2.83L4 21.41c.39.39.9.59 1.41.59.51 0 1.02-.2 1.41-.59l7.78-7.78 2.81-2.81c.8-.78.8-2.07 0-2.86zM5.41 20L4 18.59l7.72-7.72 1.47 1.35L5.41 20z\"/>\n",
              "  </svg>\n",
              "      </button>\n",
              "      \n",
              "  <style>\n",
              "    .colab-df-container {\n",
              "      display:flex;\n",
              "      flex-wrap:wrap;\n",
              "      gap: 12px;\n",
              "    }\n",
              "\n",
              "    .colab-df-convert {\n",
              "      background-color: #E8F0FE;\n",
              "      border: none;\n",
              "      border-radius: 50%;\n",
              "      cursor: pointer;\n",
              "      display: none;\n",
              "      fill: #1967D2;\n",
              "      height: 32px;\n",
              "      padding: 0 0 0 0;\n",
              "      width: 32px;\n",
              "    }\n",
              "\n",
              "    .colab-df-convert:hover {\n",
              "      background-color: #E2EBFA;\n",
              "      box-shadow: 0px 1px 2px rgba(60, 64, 67, 0.3), 0px 1px 3px 1px rgba(60, 64, 67, 0.15);\n",
              "      fill: #174EA6;\n",
              "    }\n",
              "\n",
              "    [theme=dark] .colab-df-convert {\n",
              "      background-color: #3B4455;\n",
              "      fill: #D2E3FC;\n",
              "    }\n",
              "\n",
              "    [theme=dark] .colab-df-convert:hover {\n",
              "      background-color: #434B5C;\n",
              "      box-shadow: 0px 1px 3px 1px rgba(0, 0, 0, 0.15);\n",
              "      filter: drop-shadow(0px 1px 2px rgba(0, 0, 0, 0.3));\n",
              "      fill: #FFFFFF;\n",
              "    }\n",
              "  </style>\n",
              "\n",
              "      <script>\n",
              "        const buttonEl =\n",
              "          document.querySelector('#df-a32ea34c-9ff6-4930-b141-8983b858a9c8 button.colab-df-convert');\n",
              "        buttonEl.style.display =\n",
              "          google.colab.kernel.accessAllowed ? 'block' : 'none';\n",
              "\n",
              "        async function convertToInteractive(key) {\n",
              "          const element = document.querySelector('#df-a32ea34c-9ff6-4930-b141-8983b858a9c8');\n",
              "          const dataTable =\n",
              "            await google.colab.kernel.invokeFunction('convertToInteractive',\n",
              "                                                     [key], {});\n",
              "          if (!dataTable) return;\n",
              "\n",
              "          const docLinkHtml = 'Like what you see? Visit the ' +\n",
              "            '<a target=\"_blank\" href=https://colab.research.google.com/notebooks/data_table.ipynb>data table notebook</a>'\n",
              "            + ' to learn more about interactive tables.';\n",
              "          element.innerHTML = '';\n",
              "          dataTable['output_type'] = 'display_data';\n",
              "          await google.colab.output.renderOutput(dataTable, element);\n",
              "          const docLink = document.createElement('div');\n",
              "          docLink.innerHTML = docLinkHtml;\n",
              "          element.appendChild(docLink);\n",
              "        }\n",
              "      </script>\n",
              "    </div>\n",
              "  </div>\n",
              "  "
            ]
          },
          "metadata": {},
          "execution_count": 23
        }
      ]
    },
    {
      "cell_type": "code",
      "source": [
        "intervalos = ['(-0.000948, 0.158]','(0.158, 0.316]','(0.316, 0.474]','(0.474, 0.632]','(0.632, 0.79]','(0.79, 0.948]']\n",
        "valores = df_ds['frecuencia']\n",
        "plt.rcParams[\"figure.figsize\"] = (7, 7)\n",
        "plt.pie(x=valores, labels=intervalos, autopct='%1.2f%%')\n",
        "plt.title('Indice de desarrollo humano')\n",
        "plt.show()"
      ],
      "metadata": {
        "colab": {
          "base_uri": "https://localhost:8080/",
          "height": 427
        },
        "id": "bpWY4IO5H_-h",
        "outputId": "c47ee5a4-0f19-45cc-c195-b4f6e14d93db"
      },
      "execution_count": null,
      "outputs": [
        {
          "output_type": "display_data",
          "data": {
            "text/plain": [
              "<Figure size 504x504 with 1 Axes>"
            ],
            "image/png": "[encoded data removed]"
          },
          "metadata": {}
        }
      ]
    },
    {
      "cell_type": "markdown",
      "source": [
        "De la grafica circular se puede deducir que el 22.79% de los datos estan asociados con un indice de desarrollo muy alto.\n",
        "\n",
        "Se considera que tiene un desarrollo muy bajo si el indice es menor a 0.55, pero podemos ver que mas de la mitad se encuentran por lo menos con un indice mayor a este, es decir un indice medio o alto."
      ],
      "metadata": {
        "id": "kr_QMFWyID3e"
      }
    },
    {
      "cell_type": "code",
      "source": [],
      "metadata": {
        "id": "-0QtEx64OqJc"
      },
      "execution_count": null,
      "outputs": []
    }
  ]
}